{
 "cells": [
  {
   "cell_type": "markdown",
   "metadata": {},
   "source": [
    "# Course 3. Structuring machine learning project"
   ]
  },
  {
   "cell_type": "markdown",
   "metadata": {},
   "source": [
    "## ML strategy 1"
   ]
  },
  {
   "cell_type": "markdown",
   "metadata": {},
   "source": [
    "### Why ML strategy?"
   ]
  },
  {
   "cell_type": "markdown",
   "metadata": {},
   "source": [
    "List of ideas that you can try for improving nn performance:\n",
    "\n",
    "1. collect more data\n",
    "2. create more diverse training set\n",
    "3. train longer with GD\n",
    "4. try Adam instead of GD\n",
    "5. try bigger network\n",
    "6. try smaller network\n",
    "7. try dropout\n",
    "8. add L2 regularization\n",
    "9. try different network architecture\n",
    "\n",
    "What can easily happen is that you spend 6 months collecting more data and eventually you realize that that didn't helped. This course is about figuring out what is the right direction and how to chose wisely your next steps."
   ]
  },
  {
   "cell_type": "markdown",
   "metadata": {},
   "source": [
    "### Orthogonalization"
   ]
  },
  {
   "cell_type": "markdown",
   "metadata": {},
   "source": [
    "Chain of assumption in ML:\n",
    "`fit train set well` $\\rightarrow$ `fit dev set well` $\\rightarrow$ `fit test set well` $\\rightarrow$ `working well in real world` "
   ]
  },
  {
   "cell_type": "markdown",
   "metadata": {},
   "source": [
    "### Single Number Evaluation Metric"
   ]
  },
  {
   "cell_type": "markdown",
   "metadata": {},
   "source": [
    "Using single evalutation metric speeds up the iterative process of experimenting.\n",
    "\n",
    "<img src=\"imgs/f1.png\">\n",
    "\n",
    "Usually 2 metrics that we are often using are precision and recall and in the example on the image, looking only at precision and recall, its hard to tell which classifier is better (A or B). Introducing F1 score helps us with that.\n",
    "\n",
    "__Precision__ - Of the examples our classifer recognized as cats what percentage actually are cats?\n",
    "\n",
    "__Recall__ - Of all the images that really are cats what percentage is classified correctly?\n",
    "\n",
    "__F1 Score__ - We can think of it as average of `P` and `R` (a way to combine `P` and `R`) to gain single number evaluation metric.\n",
    "\n",
    "\\begin{align}\n",
    "F1 = \\frac{2}{\\frac{1}{P} + \\frac{1}{R}}\n",
    "\\end{align}\n"
   ]
  },
  {
   "cell_type": "markdown",
   "metadata": {},
   "source": [
    "### Satisficing and Optimizing Metrics\n"
   ]
  },
  {
   "cell_type": "markdown",
   "metadata": {},
   "source": [
    "### Train / dev / test sets\n",
    "\n",
    "Guidelines:\n",
    "\n",
    "1. Dev and test set should always come from the same distribution\n",
    "2. `old way split` 70:30 or 60:20:20 vs `new way split` 98:1:1\n",
    "3. set your test set to be big enough to high confidence in overall performance of the system"
   ]
  },
  {
   "cell_type": "markdown",
   "metadata": {},
   "source": [
    "### When to Change Dev/Test Sets"
   ]
  },
  {
   "cell_type": "markdown",
   "metadata": {},
   "source": [
    "### Why Human Level Performance\n",
    "\n",
    "__Baysian optimal error__ is the best possible theoretical error.\n",
    "\n",
    "Understanding human level performance for certain task can be very helpful when setting up a target for your model."
   ]
  },
  {
   "cell_type": "markdown",
   "metadata": {},
   "source": [
    "### Avoidable Bias\n",
    "\n"
   ]
  },
  {
   "cell_type": "markdown",
   "metadata": {},
   "source": [
    "Avoidable bias is a difference between human level error and training error."
   ]
  },
  {
   "cell_type": "markdown",
   "metadata": {},
   "source": [
    "### Understanding Human-Level Performance"
   ]
  },
  {
   "cell_type": "markdown",
   "metadata": {},
   "source": [
    "How to define human level performance?\n",
    "\n",
    "<img src=\"imgs/humanlevelerror.png\">"
   ]
  },
  {
   "cell_type": "markdown",
   "metadata": {},
   "source": [
    "### Surpassing Human-Level Performance"
   ]
  },
  {
   "cell_type": "markdown",
   "metadata": {},
   "source": [
    "### Improving Performance\n",
    "\n",
    "<img src=\"imgs/improvingperformance.png\">"
   ]
  },
  {
   "cell_type": "markdown",
   "metadata": {},
   "source": [
    "## ML strategy 2"
   ]
  },
  {
   "cell_type": "markdown",
   "metadata": {},
   "source": [
    "### Carrying Out Error Analysis"
   ]
  },
  {
   "cell_type": "markdown",
   "metadata": {},
   "source": [
    "The advice is the following:\n",
    "\n",
    "Try to manually carry out analysis of misclassified examples and to spot a categories (for cat image classification its dogs, great cats, blurry images etc) and then prioritize fixing the classifier for certain category based on how many images there are in each of these categories."
   ]
  },
  {
   "cell_type": "markdown",
   "metadata": {},
   "source": [
    "### Cleaning Up Incorrectly Labelled Data"
   ]
  },
  {
   "cell_type": "markdown",
   "metadata": {},
   "source": [
    "### Build First System Quickly, Then Iterate"
   ]
  },
  {
   "cell_type": "markdown",
   "metadata": {},
   "source": [
    "1. Quickly set up dev / test set and metric (place the target)\n",
    "2. Build your initial system\n",
    "3. Use bias & variance error analysis as well as error analysis to prioritize next steps"
   ]
  },
  {
   "cell_type": "markdown",
   "metadata": {},
   "source": [
    "### Training and Testing on Different Distributions"
   ]
  },
  {
   "attachments": {},
   "cell_type": "markdown",
   "metadata": {},
   "source": [
    "<img src=\"imgs/distribution.png\">\n",
    "<img src=\"imgs/speechrecognitionex.png\">\n"
   ]
  },
  {
   "cell_type": "markdown",
   "metadata": {},
   "source": [
    "### Bias and Variance with missmatched data\n",
    "\n",
    "This video nicely explains how to debug your model. Watch it over and over https://youtu.be/2BH49JG_sTs\n",
    "<img src=\"imgs/biasandvariance.png\">"
   ]
  },
  {
   "cell_type": "markdown",
   "metadata": {},
   "source": [
    "### Addressing Data Mismatch\n",
    "\n",
    "`understand difference between training and dev / test set` $\\rightarrow$ `make training data more similar`\n",
    "\n",
    "For example, if you're working with audio data maybe dev set contains samples that are a bit noisier then in training set. In this case it could be helpful to generate more data by taking samples from the training set and artificially add noise to them. This process is called __aritficial data synthesis__."
   ]
  },
  {
   "cell_type": "markdown",
   "metadata": {},
   "source": [
    "### Transfer learning"
   ]
  },
  {
   "cell_type": "markdown",
   "metadata": {},
   "source": [
    "Idea of transfer learning is that we can take knowledge that model learned on one task and then apply that knowledge on separate task. For example, you can take neural net that learned to classify cats and reuse it for the task of classifying radiology images (nn hidden layers can learn various features like edge detection etc. which can be extremly valuable for the other task).\n",
    "\n",
    "<img src=\"imgs/transferlearning.png\">\n",
    "\n",
    "Transfer learning can be also very helpfull when you don't have enough data.\n",
    "\n",
    "This can be applied to other types of data, not just images. However, tasks have to be related ... When it makes sense to apply transfer learning?\n",
    "\n",
    "* Task A and task B have the same input\n",
    "* You have a lot more data for task A then for task B\n",
    "* Low level features from task A could be helpful for task B\n",
    "\n",
    "Papers about transfer learning: https://en.wikipedia.org/wiki/Transfer_learning#CITEREFThrunPratt2012 (wow ... idea was born in the early 90s)"
   ]
  },
  {
   "cell_type": "markdown",
   "metadata": {},
   "source": [
    "### Multi-task learning\n",
    "\n",
    "In transfer learning we first trained the model on one task and then transfered that knowledge to other task. In multitask learning we are solving several tasks in parallel. Here is what this means ...\n",
    "\n",
    "For example if you have the self-driving car system and you want to detect pedestrians, traffic ligts, stop signs and cars on the images, you can create neural net where output layer is dimension for each example is $4 \\times 1$ as opposed to $1 x 1$\n",
    "\n",
    "<img src=\"imgs/multitask.png\">\n",
    "\n",
    "Multitask learning makes sense when:\n",
    "\n",
    "* training on a set of tasks that could benefit from sharing low level features\n",
    "* usually amount of data that you have for each task is similar and by doing multitask learning you could benefit of having more data then doing these tasks separately\n",
    "* can train a big nn that can do well on all tasks\n",
    "\n",
    "In practice transfer learning is used much often in average ... but in computer vision, multitask learning is used more offen."
   ]
  },
  {
   "cell_type": "markdown",
   "metadata": {},
   "source": [
    "### What is end-to-end deep learning?\n",
    "### Whether to Use End-To-End Deep Learning\n"
   ]
  },
  {
   "cell_type": "code",
   "execution_count": null,
   "metadata": {},
   "outputs": [],
   "source": []
  }
 ],
 "metadata": {
  "kernelspec": {
   "display_name": "Python 3",
   "language": "python",
   "name": "python3"
  },
  "language_info": {
   "codemirror_mode": {
    "name": "ipython",
    "version": 3
   },
   "file_extension": ".py",
   "mimetype": "text/x-python",
   "name": "python",
   "nbconvert_exporter": "python",
   "pygments_lexer": "ipython3",
   "version": "3.6.6"
  }
 },
 "nbformat": 4,
 "nbformat_minor": 2
}
