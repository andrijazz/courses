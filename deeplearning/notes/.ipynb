{
 "cells": [
  {
   "cell_type": "markdown",
   "metadata": {},
   "source": [
    "# Course 3. Structuring machine learning project"
   ]
  },
  {
   "cell_type": "markdown",
   "metadata": {},
   "source": [
    "## Why ML strategy?"
   ]
  },
  {
   "cell_type": "markdown",
   "metadata": {},
   "source": [
    "List of ideas that you can try in improving nn performance:\n",
    "\n",
    "1) collect more data\n",
    "2) create more diverse training set\n",
    "3) train longer with GD\n",
    "4) try Adam instead of GD\n",
    "5) try bigger network\n",
    "6) try smaller network\n",
    "7) try dropout\n",
    "8) add L2 regularization\n",
    "9) try different network architecture\n",
    "\n",
    "What can easily happen is that you spend 6 months collecting more data and eventually you realize that that didn't helped. This course is about figuring out what is the right direction and how to chose wisely your next steps."
   ]
  },
  {
   "cell_type": "markdown",
   "metadata": {},
   "source": [
    "## Orthogonalization"
   ]
  },
  {
   "cell_type": "markdown",
   "metadata": {},
   "source": [
    "Chain of assumption in ML:\n",
    "`fit train set well` $\\rightarrow$ `fit dev set well` $\\rightarrow$ `fit test set well` $\\rightarrow$ `working well in real world` "
   ]
  },
  {
   "cell_type": "markdown",
   "metadata": {},
   "source": [
    "## Single Number Evaluation Metric"
   ]
  },
  {
   "cell_type": "markdown",
   "metadata": {},
   "source": [
    "Using single evalutation metric speeds up the iterative process of experimenting.\n",
    "\n",
    "<img src=\"imgs/f1.png\">\n",
    "\n",
    "Usually 2 metrics that we are often using are precision and recall and in the example on the image, looking only at precision and recall, its hard to tell which classifier is better (A or B). Introducing F1 score helps us with that.\n",
    "\n",
    "__Precision__ - Of the examples our classifer recognized as cats what percentage actually are cats?\n",
    "\n",
    "__Recall__ - Of all the images that really are cats what percentage is classified correctly?\n",
    "\n",
    "__F1 Score__ - We can think of it as average of `P` and `R` (a way to combine `P` and `R`) to gain single number evaluation metric.\n",
    "\n",
    "\\begin{align}\n",
    "F1 = \\frac{2}{\\frac{1}{P} + \\frac{1}{R}}\n",
    "\\end{align}\n"
   ]
  },
  {
   "cell_type": "markdown",
   "metadata": {},
   "source": [
    "## Satisficing and Optimizing Metrics\n",
    "\n"
   ]
  },
  {
   "cell_type": "code",
   "execution_count": null,
   "metadata": {},
   "outputs": [],
   "source": []
  }
 ],
 "metadata": {
  "kernelspec": {
   "display_name": "Python 3",
   "language": "python",
   "name": "python3"
  },
  "language_info": {
   "codemirror_mode": {
    "name": "ipython",
    "version": 3
   },
   "file_extension": ".py",
   "mimetype": "text/x-python",
   "name": "python",
   "nbconvert_exporter": "python",
   "pygments_lexer": "ipython3",
   "version": "3.6.6"
  }
 },
 "nbformat": 4,
 "nbformat_minor": 2
}
