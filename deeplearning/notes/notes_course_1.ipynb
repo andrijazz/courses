{
 "cells": [
  {
   "cell_type": "markdown",
   "metadata": {},
   "source": [
    "# Chapter 1. Neural Networks and Deep Learning"
   ]
  },
  {
   "cell_type": "markdown",
   "metadata": {},
   "source": [
    "## Introduction to Deep Learning\n",
    "\n",
    "We are introducing $ReLU$ (Rectified Linear Unit) function which is used as a activation function. \n",
    "\\begin{align}\n",
    "f(x) =\n",
    "\t\\begin{cases}\n",
    "\t\tx   & \\quad x \\geq 0\\\\\n",
    "\t\t0\t& \\quad x < 0\n",
    "\t\\end{cases}\n",
    "\\end{align}\n",
    "\n",
    "One of the major breakthroughs in NN computations was introducing $ReLU$ function instead of $Sigmoid$ function $f(x) = \\frac{1}{1 + e ^{-x}}$. The advantage of $ReLU$ is that has value $0$ when $x < 0$, where $Sigmoid$ function has values that are close to $0$ and thus making the computation harder.\n",
    "Additionally, gradient of $ReLU$ function is equal to $1$ for all positive $x$'s and thus making the gradient descent runs much faster.\n",
    "\n",
    "Especially interesting in Week 1 of the course was interview with Geoffrey Hinton where a lot of interesting ideas were mentioned so it would be really beneficial to watch this video again once I gain more knowledge about different models like Boltzman Machines etc.\n"
   ]
  },
  {
   "cell_type": "code",
   "execution_count": 1,
   "metadata": {},
   "outputs": [
    {
     "data": {
      "text/plain": [
       "<matplotlib.figure.Figure at 0x7fe1884e55c0>"
      ]
     },
     "metadata": {},
     "output_type": "display_data"
    }
   ],
   "source": [
    "import matplotlib.pyplot as plt\n",
    "import numpy as np\n",
    "\n",
    "\n",
    "def relu(x):\n",
    "    return np.maximum(x, 0)\n",
    "\n",
    "\n",
    "x = np.array([-2, -1, 0, 1, 2, 3])\n",
    "y = relu(x)\n",
    "plt.plot(x, y)\n",
    "\n",
    "plt.xlabel('x')\n",
    "plt.ylabel('y')\n",
    "plt.title('Rectified Linear Unit')\n",
    "# plt.grid(True)\n",
    "plt.savefig(\"relu.png\")\n",
    "plt.show()"
   ]
  },
  {
   "cell_type": "markdown",
   "metadata": {},
   "source": [
    "<img src=\"../plots/relu.png\" style=\"width:400px;\">"
   ]
  },
  {
   "cell_type": "markdown",
   "metadata": {},
   "source": [
    "## Neural Network basics"
   ]
  },
  {
   "cell_type": "markdown",
   "metadata": {},
   "source": [
    "### Image representation\n",
    "\n",
    "Image is represented with the 3-dimensional matrix where dimensions represent values of Red Green and Blue respectively. 3-dimensional matrix is usually squeezed into 1-dimensional vector and this is what we are considering to be our $x$ in terms of image classification models."
   ]
  },
  {
   "cell_type": "markdown",
   "metadata": {},
   "source": [
    "### Binary classification and Neural Network Notation\n",
    "In this section Andrew Ng defines binary classification problem, introduces Logistic Regression and $Sigmoid$ function but more importantly it introduces neural network notation that will be used throughout the course. He emphasizes that neural network notation will be different from the one used in his first Machine Learning course in a way that bias will be kept separately of parameters vector because it is more natural notation when implementing neural net.\n",
    "\n",
    "For detail notation take a look at the file $\\textit{neuralnetworknotation.pdf}$."
   ]
  },
  {
   "cell_type": "markdown",
   "metadata": {},
   "source": [
    "### Logistic regression cost function\n",
    "We define a \\textbf{loss function} as a measurement of how well we are doing on a single training example and \\textbf{cost function} of how well we are doing on the entire training set.\n",
    "\n",
    "Loss function for Logistic regression is:\n",
    "\n",
    "\\begin{align}\n",
    "L(y, \\hat{y}) = -(y\\log{\\hat{y}} + (1 - y)\\log{(1 - \\hat{y})})\n",
    "\\end{align}\n",
    "\n",
    "where $\\hat{y} = \\sigma(w^Tx + b)$ and $\\sigma$ is $Sigmoid$ function (in literature when we write $\\log$ it usually stands for logarithm with the base of $e$). The questions that pops up is why we simply can't use $L(y, \\hat{y}) = \\frac{1}{2}(y - \\hat{y})^2$ as a loss function? The answer is that optimization problem that we will encounter will become non-convex and thus gradient descent may converge to local optimum instead of global optimum.\n",
    "\n",
    "Cost function for Logistic regression is:\n",
    "\\begin{align}\n",
    "J(W, b) = \\frac{1}{m}\\sum_{i = 1}^{m}L(y^{(i)}, \\hat{y}^{(i)}) = -\\frac{1}{m}\\sum_{i = 1}^{m}(y^{(i)}\\log{\\hat{y}^{(i)}} + (1 - y^{(i)})\\log{(1 - \\hat{y}^{(i)})})\n",
    "\\end{align}\n",
    "\n",
    "People usually don't do random initialization for Logistic Regression because cost function is convex and thus the usual way is to simply initialize all the parameters to $0$."
   ]
  },
  {
   "cell_type": "markdown",
   "metadata": {},
   "source": [
    "### Broadcasting in Python\n",
    "\n",
    "General principle for the python broadcasting is that if you have $(m, n)$ matrix and $(m, 1)$ matrix you would be able to apply any of operations $+, -, *, /$ because second matrix will be automatically extended up to $(m, n)$ by repeating the column $n$ times. Similarly, if you have $(m, n)$ matrix and $(1, n)$ matrix you would be able to apply arithmetic operations because second matrix will be automatically extended up to $(m, n)$ by repeating the raw $m$ times.\n"
   ]
  },
  {
   "cell_type": "markdown",
   "metadata": {},
   "source": [
    "### Tips on numpy"
   ]
  },
  {
   "cell_type": "markdown",
   "metadata": {},
   "source": [
    "1) Avoid using rank 1 arrays, they are not column vectors nor row vectors"
   ]
  },
  {
   "cell_type": "code",
   "execution_count": 3,
   "metadata": {},
   "outputs": [
    {
     "name": "stdout",
     "output_type": "stream",
     "text": [
      "(5,)\n",
      "[ 0.50396686  0.68641748  0.99727146  0.78588024  0.1727076 ]\n",
      "(1, 5)\n",
      "[[ 0.50396686  0.68641748  0.99727146  0.78588024  0.1727076 ]]\n"
     ]
    }
   ],
   "source": [
    "import numpy as np\n",
    "\n",
    "a = np.random.rand(5)\n",
    "\n",
    "print(a.shape)\n",
    "print(a)\n",
    "\n",
    "a = a.reshape(1, 5)\n",
    "print(a.shape)\n",
    "print(a)"
   ]
  },
  {
   "cell_type": "markdown",
   "metadata": {},
   "source": [
    "2) Use assertions"
   ]
  },
  {
   "cell_type": "code",
   "execution_count": 4,
   "metadata": {},
   "outputs": [],
   "source": [
    "assert(a.shape == (1, 5))"
   ]
  },
  {
   "cell_type": "markdown",
   "metadata": {},
   "source": [
    "### Explanation of Logistic Regression cost function\n",
    "\n",
    "Our task is to model the probability $p(y|x)$, so we need to come up with the function, lets name it $\\hat{y}$, that will satisfy the requirements: when $y = 1$, $p(y|x) = \\hat{y}$ and when $y = 0$, $p(y|x) = 1 - \\hat{y}$. These 2 cases described $p(y|x)$ so we are now going to try to write $p(y|x)$ in a single equation: \n",
    "\n",
    "\\begin{align}\n",
    "p(y|x) = \\hat{y}^y (1 - \\hat{y})^{1 - y}\n",
    "\\end{align}\n",
    "\n",
    "Since $\\log$ is strictly monotonically increasing function, instead of modeling $p(y|x)$ we can model $\\log(p(y|x)$ and that would give us the same results. Introducing the log function will give us something like this:\n",
    "\n",
    "\\begin{align}\n",
    "\\log{p(y|x)} = y\\log{\\hat{y}} + (1 - y)\\log{(1 - \\hat{y})}\n",
    "\\end{align}\n",
    "\n",
    "In machine learning we usually want to minimize the loss and that means maximizing the $p(y|x)$ and thus we define $L(y, \\hat{y}) = -p(y|x)$. We can now define $\\hat{y}$ as a simple polinomial function and add sigmoid to make it satisify probability requirements to be between $0$ and $1$. Thus $\\hat{y} = \\sigma(\\theta^Tx + b)$. Also, when caluclating gradients sigmoid function has a convinient property $\\sigma'(x) = \\sigma(x) (1 - \\sigma(x))$ so that is something that we should keep in mind."
   ]
  },
  {
   "cell_type": "markdown",
   "metadata": {},
   "source": [
    "### Normalization\n",
    "\n",
    "Another common technique we use in Machine Learning and Deep Learning is to normalize our data. It often leads to a better performance because gradient descent converges faster after normalization. Here, by normalization we mean changing x to $\\frac{x}{\\| x\\|}$ (dividing each row vector of x by its norm).\n"
   ]
  },
  {
   "cell_type": "code",
   "execution_count": null,
   "metadata": {},
   "outputs": [],
   "source": []
  }
 ],
 "metadata": {
  "kernelspec": {
   "display_name": "Python 3",
   "language": "python",
   "name": "python3"
  },
  "language_info": {
   "codemirror_mode": {
    "name": "ipython",
    "version": 3
   },
   "file_extension": ".py",
   "mimetype": "text/x-python",
   "name": "python",
   "nbconvert_exporter": "python",
   "pygments_lexer": "ipython3",
   "version": "3.6.3"
  }
 },
 "nbformat": 4,
 "nbformat_minor": 2
}
