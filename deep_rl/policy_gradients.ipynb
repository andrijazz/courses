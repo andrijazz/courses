{
 "cells": [
  {
   "cell_type": "markdown",
   "id": "nutritional-scoop",
   "metadata": {},
   "source": [
    "# Policy Gradients (CS285.L4)"
   ]
  },
  {
   "cell_type": "markdown",
   "id": "abroad-explorer",
   "metadata": {},
   "source": [
    "### Goal of RL\n",
    "\n",
    "\n",
    "### Understanding policy gradients\n",
    "\n",
    "Policy gradient loss function is the weighted version of maximum likelyhood loss weight by reward.\n",
    "\n",
    "Discrete action space vs Continous action space\n",
    "\n",
    "Analysing variance\n",
    "\n",
    "### Reducing variance\n",
    "\n",
    "1. Reward-to-go (Causality trick)\n",
    "2. Baselines\n",
    "\n",
    "### Off-policy policy gradiants\n",
    "\n",
    "...\n",
    "\n",
    "### Implementation notes\n",
    "\n",
    "...\n",
    "\n",
    "### Advanced policy gradients\n",
    "\n",
    "...\n",
    "Vanilla policy gradient (Reinforce)\n",
    "TRPO\n",
    "PPO\n",
    "\n",
    "### Questions\n",
    "..."
   ]
  },
  {
   "cell_type": "markdown",
   "id": "expressed-formation",
   "metadata": {},
   "source": [
    "## Revisiting Math\n",
    "\n",
    "\n",
    "**def.** **Maximum likelihood estimation** is a method that determines values for the parameters of a probability distribution (model). The parameter values are found such that they maximise the likelihood that the process described by the model produced the data that were actually observed. For example, typical neural network training will usually try to maximise probabilities of specific output.\n",
    "\n",
    "\n",
    "**def.** Function *f* is called **linear** if two properties are satisfied:\n",
    "1. $f(x + y) = f(x) + f(y)$, $\\forall{x, y \\in D}$\n",
    "2. $f(cx) = cf(x)$, where $c$ is some constant\n",
    "From definition it follows that:\n",
    "$f(ax + by) = af(x) + bf(y)$\n",
    "\n",
    "**Multivariate normal distribution** is the generalization of Normal distribution in $\\mathbb{R}^n$ (DL book ch 3.9.3)\n",
    "\n",
    "### Questions\n",
    "\n",
    "1. Define probabilty\n",
    "2. What are two interpretations of a probability?\n",
    "3. What is random variable?\n",
    "4. What is probability distribution for discrete and continous variables?\n",
    "5. What is PMF / PDF?\n",
    "6. What is expectated value of random variable over probability distribution?\n",
    "7. What does it mean when we tell that function is linear?\n",
    "8. What is maximum likelihood?\n",
    "9. Define Gaussian distribution\n",
    "10. Define multivariate Gaussian distribution\n",
    "\n",
    "### Math tricks\n",
    "\n",
    "**Convinient identity**\n",
    "\n",
    "$p'_{\\theta}(\\tau) = p_{\\theta}(\\tau) \\ln'{p_{\\theta}(\\tau)}$\n",
    "\n",
    "$\\log'_{a}{x} = \\frac{1}{x\\log{a}}$\n",
    "\n",
    "$\\ln'{x} = \\frac{1}{x}$\n",
    "\n",
    "**Importance sampling**"
   ]
  },
  {
   "cell_type": "markdown",
   "id": "voluntary-mistake",
   "metadata": {},
   "source": [
    "## Homework\n",
    "\n",
    "1. Implement Vanilla Policy Gradient (Reinforce) algorithm\n",
    "2. Improve VPG by adding reward-to-go, discount and baselines to reduce high variance\n",
    "3. Implement TRPO algorithm\n",
    "4. Implement PPO algorithm"
   ]
  },
  {
   "cell_type": "markdown",
   "id": "married-airline",
   "metadata": {},
   "source": [
    "## Depth Learning Curriculum\n",
    "\n",
    "Each **chapter** is split into 6 parts.\n",
    "1. **Motivation** - here we describe why it is important to be familiar with this specific chapter\n",
    "2. **Topics** - this is the list of terms and definitions we will cover in the chapter\n",
    "3. **Required reading**\n",
    "4. **Optional reading**\n",
    "5. **Questions and Solutions** - related to the topics\n",
    "6. **Notes** - on the topic"
   ]
  }
 ],
 "metadata": {
  "kernelspec": {
   "display_name": "Python 3",
   "language": "python",
   "name": "python3"
  },
  "language_info": {
   "codemirror_mode": {
    "name": "ipython",
    "version": 3
   },
   "file_extension": ".py",
   "mimetype": "text/x-python",
   "name": "python",
   "nbconvert_exporter": "python",
   "pygments_lexer": "ipython3",
   "version": "3.8.8"
  }
 },
 "nbformat": 4,
 "nbformat_minor": 5
}
