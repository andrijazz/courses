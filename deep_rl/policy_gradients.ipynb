{
 "cells": [
  {
   "cell_type": "markdown",
   "id": "preceding-waterproof",
   "metadata": {},
   "source": [
    "# Policy Gradients (CS285.L4)"
   ]
  },
  {
   "cell_type": "markdown",
   "id": "abroad-explorer",
   "metadata": {},
   "source": [
    "### Goal of RL\n",
    "\n",
    "just derivation ... tell story behind it out loud\n",
    "\n",
    "### Understanding policy gradients\n",
    "\n",
    "intuition behind derivation from prev lecture\n",
    "\n",
    "### Reducing variance\n",
    "\n",
    "...\n",
    "\n",
    "### Off-policy policy gradiants\n",
    "\n",
    "...\n",
    "\n",
    "### Implementation notes\n",
    "\n",
    "...\n",
    "\n",
    "### Advanced policy gradients\n",
    "\n",
    "..."
   ]
  },
  {
   "cell_type": "markdown",
   "id": "healthy-carpet",
   "metadata": {},
   "source": [
    "## Math Tricks\n",
    "\n",
    "**Convinient identity**\n",
    "\n",
    "$\\partial \\log x = \\frac{1}{x}$\n",
    "\n",
    "\n",
    "**Importance sampling**\n"
   ]
  },
  {
   "cell_type": "markdown",
   "id": "dried-indonesia",
   "metadata": {},
   "source": [
    "## Revisiting Math\n",
    "\n",
    "\n",
    "**def.** **Maximum likelihood estimation** is a method that determines values for the parameters of a probability distribution (model). The parameter values are found such that they maximise the likelihood that the process described by the model produced the data that were actually observed.\n",
    "\n",
    "\n",
    "**def.** Function *f* is called **linear** if two properties are satisfied:\n",
    "1. $f(x + y) = f(x) + f(y)$, $\\forall{x, y \\in D}$\n",
    "2. $f(cx) = cf(x)$, where $c$ is some constant\n",
    "From definition it follows that:\n",
    "$f(ax + by) = af(x) + bf(y)$\n",
    "\n",
    "**Multivariate normal distribution** is the generalization of Normal distribution in $\\mathbb{R}^n$ (DL book ch 3.9.3)\n",
    "\n",
    "### Questions\n",
    "\n",
    "1. Define probabilty\n",
    "2. What are two interpretations of a probability?\n",
    "3. What is random variable?\n",
    "4. What is probability distribution for discrete and continous variables?\n",
    "5. What is PMF / PDF?\n",
    "6. What is expectated value of random variable over probability distribution?\n",
    "7. What does it mean when we tell that function is linear?\n",
    "8. What is maximum likelihood?\n",
    "9. Define Gaussian distribution\n",
    "10. Define multivariate Gaussian distribution\n"
   ]
  },
  {
   "cell_type": "markdown",
   "id": "scientific-release",
   "metadata": {},
   "source": [
    "## Depth Learning Curriculum\n",
    "\n",
    "Each **chapter** is split into 6 parts.\n",
    "1. **Motivation** - here we describe why it is important to be familiar with this specific chapter\n",
    "2. **Topics** - this is the list of terms and definitions we will cover in the chapter\n",
    "3. **Required reading**\n",
    "4. **Optional reading**\n",
    "5. **Questions and Solutions** - related to the topics\n",
    "6. **Notes** - on the topic"
   ]
  }
 ],
 "metadata": {
  "kernelspec": {
   "display_name": "Python 3",
   "language": "python",
   "name": "python3"
  },
  "language_info": {
   "codemirror_mode": {
    "name": "ipython",
    "version": 3
   },
   "file_extension": ".py",
   "mimetype": "text/x-python",
   "name": "python",
   "nbconvert_exporter": "python",
   "pygments_lexer": "ipython3",
   "version": "3.8.8"
  }
 },
 "nbformat": 4,
 "nbformat_minor": 5
}
