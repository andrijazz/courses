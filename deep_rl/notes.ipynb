{
 "cells": [
  {
   "cell_type": "markdown",
   "metadata": {},
   "source": [
    "# CS 285 at UC Berkeley - Deep Reinforcement Learning"
   ]
  },
  {
   "cell_type": "markdown",
   "metadata": {},
   "source": [
    "## Lecture 1. Introduction"
   ]
  },
  {
   "cell_type": "markdown",
   "metadata": {},
   "source": [
    "## Lecture 2: Supervised Learning of Behaviors\n",
    "\n",
    "### Notation\n",
    "\n",
    "<img src=\"imgs/l2_1.png\">\n",
    "\n",
    "\n",
    "Difference between **state** and **observation** is that state fully describes situation in which agent is found, while observation contains partial information about the situation. Other important distinction between the two is that observation don't statisfy Markov property.\n",
    "\n",
    "### Imitation learning\n",
    "\n",
    "We will focus on self-driving example - we would try to learn how to drive in a supervised manner - just by data collected from driving scenes.\n",
    "\n",
    "<img src=\"imgs/l2_2.png\">\n",
    "\n",
    "Problem with this approach is that whenever vehicle finds itself in a situation that didn't saw during the training it can drift away and propose action that can have catastrophic consequences.\n",
    "\n",
    "<img src=\"imgs/l2_3.png\">\n",
    "\n",
    "One idea for getting around this problem is to collect more training data and make $p_{data}$ more similar to $p_{\\pi_{\\theta}}$. DAgger algo is one of the ways to do so:\n",
    "\n",
    "<img src=\"imgs/l2_4.png\">\n",
    "<img src=\"imgs/l2_5.png\">\n",
    "<img src=\"imgs/l2_6.png\">\n",
    "<img src=\"imgs/l2_7.png\">\n",
    "<img src=\"imgs/l2_8.png\">\n",
    "<img src=\"imgs/l2_9.png\">\n",
    "<img src=\"imgs/l2_10.png\">\n",
    "<img src=\"imgs/l2_11.png\">\n",
    "<img src=\"imgs/l2_12.png\">\n",
    "<img src=\"imgs/l2_13.png\">"
   ]
  },
  {
   "cell_type": "code",
   "execution_count": null,
   "metadata": {},
   "outputs": [],
   "source": []
  }
 ],
 "metadata": {
  "kernelspec": {
   "display_name": "Python 3",
   "language": "python",
   "name": "python3"
  },
  "language_info": {
   "codemirror_mode": {
    "name": "ipython",
    "version": 3
   },
   "file_extension": ".py",
   "mimetype": "text/x-python",
   "name": "python",
   "nbconvert_exporter": "python",
   "pygments_lexer": "ipython3",
   "version": "3.7.6"
  }
 },
 "nbformat": 4,
 "nbformat_minor": 4
}
