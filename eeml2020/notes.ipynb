{
 "cells": [
  {
   "cell_type": "markdown",
   "metadata": {},
   "source": [
    "# Notes"
   ]
  },
  {
   "cell_type": "markdown",
   "metadata": {},
   "source": [
    "### Tomas Mikolov talk\n",
    "\n",
    "Focus on basics and simple ideas rather then going into complex models just because they are advertise or its coming from some fancy lab."
   ]
  },
  {
   "cell_type": "markdown",
   "metadata": {},
   "source": [
    "### Tutorials Q&A\n",
    "\n",
    "Takeaways:\n",
    "1. Resnet block implementation\n",
    "2. Try working with gradients directly instead of just doing .train()\n",
    "3. Adverserial examples\n",
    "4. SE Blocks\n",
    "5. "
   ]
  },
  {
   "cell_type": "markdown",
   "metadata": {},
   "source": [
    "### Best practices in ML research\n",
    "\n",
    "Recommended papers:\n",
    "https://en.wikipedia.org/wiki/Pandemonium_architecture\n",
    "https://www-users.cs.umn.edu/~baner029/Teaching/Spring06/papers/freund96game.pdf\n",
    "https://arxiv.org/abs/2005.14165\n",
    "https://arxiv.org/abs/1905.02175\n",
    "https://arxiv.org/abs/1710.09412\n",
    "https://www.nature.com/articles/s41593-019-0470-8"
   ]
  },
  {
   "cell_type": "code",
   "execution_count": null,
   "metadata": {},
   "outputs": [],
   "source": []
  }
 ],
 "metadata": {
  "kernelspec": {
   "display_name": "Python 3",
   "language": "python",
   "name": "python3"
  },
  "language_info": {
   "codemirror_mode": {
    "name": "ipython",
    "version": 3
   },
   "file_extension": ".py",
   "mimetype": "text/x-python",
   "name": "python",
   "nbconvert_exporter": "python",
   "pygments_lexer": "ipython3",
   "version": "3.7.6"
  }
 },
 "nbformat": 4,
 "nbformat_minor": 4
}
